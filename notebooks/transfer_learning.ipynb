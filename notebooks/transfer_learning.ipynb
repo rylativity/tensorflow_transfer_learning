{
 "cells": [
  {
   "cell_type": "markdown",
   "id": "0890256d-3a69-44d2-bc7a-b82974ea6737",
   "metadata": {},
   "source": [
    "# Transfer Learning Example\n",
    "From https://www.tensorflow.org/tutorials/images/transfer_learning"
   ]
  },
  {
   "cell_type": "code",
   "execution_count": null,
   "id": "ff329bd2-13a9-4a31-a7a3-3c00f73db68f",
   "metadata": {},
   "outputs": [],
   "source": [
    "import matplotlib.pyplot as plt\n",
    "import numpy as np\n",
    "import os\n",
    "import tensorflow as tf"
   ]
  },
  {
   "cell_type": "markdown",
   "id": "925ccc5e-cea9-4736-9828-3cf5ddf52047",
   "metadata": {},
   "source": [
    "### Download the Data"
   ]
  },
  {
   "cell_type": "code",
   "execution_count": null,
   "id": "b6fd2226-856e-4d06-9830-dc8ba299d900",
   "metadata": {},
   "outputs": [],
   "source": [
    "data_url = 'https://storage.googleapis.com/mledu-datasets/cats_and_dogs_filtered.zip'\n",
    "path_to_zip = tf.keras.utils.get_file('cats_and_dogs.zip', origin=data_url, extract=True)\n",
    "PATH = os.path.join(os.path.dirname(path_to_zip), 'cats_and_dogs_filtered')"
   ]
  },
  {
   "cell_type": "code",
   "execution_count": null,
   "id": "0bc72d4f-d1bb-4b84-bf7c-2a494fd7175a",
   "metadata": {},
   "outputs": [],
   "source": [
    "train_dir = os.path.join(PATH, 'train')\n",
    "validation_dir = os.path.join(PATH, 'validation')"
   ]
  },
  {
   "cell_type": "markdown",
   "id": "08b9e011-c4c4-4c02-bb30-0c061b931ee3",
   "metadata": {},
   "source": [
    "### Create Training and Validation Datasets from the Downloaded Data"
   ]
  },
  {
   "cell_type": "code",
   "execution_count": null,
   "id": "c277b0d1-2a80-40ba-a760-e4ed5508fe2f",
   "metadata": {},
   "outputs": [],
   "source": [
    "BATCH_SIZE=32\n",
    "IMG_SIZE = (160, 160)"
   ]
  },
  {
   "cell_type": "code",
   "execution_count": null,
   "id": "3686a1a1-b8ad-445f-a6e8-32b522dbf9fe",
   "metadata": {},
   "outputs": [],
   "source": [
    "train_dataset = tf.keras.utils.image_dataset_from_directory(train_dir,\n",
    "                                                            shuffle=True,\n",
    "                                                            batch_size=BATCH_SIZE,\n",
    "                                                            image_size=IMG_SIZE)"
   ]
  },
  {
   "cell_type": "code",
   "execution_count": null,
   "id": "23afbf59-fdf8-4550-97e3-ab0880db87a7",
   "metadata": {},
   "outputs": [],
   "source": [
    "validation_dataset = tf.keras.utils.image_dataset_from_directory(validation_dir,\n",
    "                                                            shuffle=True,\n",
    "                                                            batch_size=BATCH_SIZE,\n",
    "                                                            image_size=IMG_SIZE)"
   ]
  },
  {
   "cell_type": "markdown",
   "id": "4862c0aa-f1df-4d28-a46f-d9595bbbb0cd",
   "metadata": {},
   "source": [
    "### Show the First Few Images With Class Names"
   ]
  },
  {
   "cell_type": "code",
   "execution_count": null,
   "id": "7440cb4a-591e-4bd2-86d1-665e0cb8b6aa",
   "metadata": {},
   "outputs": [],
   "source": [
    "class_names = train_dataset.class_names"
   ]
  },
  {
   "cell_type": "code",
   "execution_count": null,
   "id": "91806136-6dc3-417a-9726-e61fd91dcb70",
   "metadata": {},
   "outputs": [],
   "source": [
    "plt.figure(figsize=(10,10))\n",
    "for images, labels in train_dataset.take(1):\n",
    "    for i in range(9):\n",
    "        ax = plt.subplot(3,3,i+1)\n",
    "        plt.imshow(images[i].numpy().astype(\"uint8\"))\n",
    "        plt.title(class_names[labels[i]])\n",
    "        plt.axis(\"off\")"
   ]
  },
  {
   "cell_type": "markdown",
   "id": "59c738cd-2c10-470c-8696-2ba2d8c7f106",
   "metadata": {},
   "source": [
    "### Create a Test Set from a Subset of the Validation Set"
   ]
  },
  {
   "cell_type": "code",
   "execution_count": null,
   "id": "67eeee66-1248-49a7-b822-c76154e9d4b2",
   "metadata": {},
   "outputs": [],
   "source": [
    "val_batches = tf.data.experimental.cardinality(validation_dataset)\n",
    "test_dataset = validation_dataset.take(val_batches // 5)\n",
    "validation_dataset = validation_dataset.skip(val_batches // 5)"
   ]
  },
  {
   "cell_type": "code",
   "execution_count": null,
   "id": "32437932-b4cc-4ed9-a632-e7139e6103c7",
   "metadata": {},
   "outputs": [],
   "source": [
    "print(f\"Number of Validation Batches: {tf.data.experimental.cardinality(validation_dataset)}\")\n",
    "print(f\"Number of Test Batches: {tf.data.experimental.cardinality(test_dataset)}\")"
   ]
  },
  {
   "cell_type": "markdown",
   "id": "a52fcf54-2ba4-4f3c-be84-79cb6b0e0a90",
   "metadata": {},
   "source": [
    "### Configure Prefetching to Increase Performance\n",
    "Prefetching will allow tensorflow to begin pre-processing the next batch of images while training on the current set."
   ]
  },
  {
   "cell_type": "code",
   "execution_count": null,
   "id": "200477da-77c0-45c5-9b17-74a7f4dab484",
   "metadata": {},
   "outputs": [],
   "source": [
    "AUTOTUNE = tf.data.AUTOTUNE\n",
    "train_dataset = train_dataset.prefetch(buffer_size=AUTOTUNE)\n",
    "validation_dataset = validation_dataset.prefetch(buffer_size=AUTOTUNE)\n",
    "test_dataset = test_dataset.prefetch(buffer_size=AUTOTUNE)"
   ]
  },
  {
   "cell_type": "markdown",
   "id": "287ca560-496c-4f88-8d3c-709bbead0682",
   "metadata": {},
   "source": [
    "### Augment the Dataset (Create Modified Copies of Existing Dataset to Artifically Increase Size of Dataset)"
   ]
  },
  {
   "cell_type": "code",
   "execution_count": null,
   "id": "e3fbf349-67c5-4eb5-a5ea-e7507b90bd7a",
   "metadata": {},
   "outputs": [],
   "source": [
    "data_augmentation = tf.keras.Sequential([\n",
    "    tf.keras.layers.RandomFlip('horizontal'),\n",
    "    tf.keras.layers.RandomRotation(0.2)])"
   ]
  },
  {
   "cell_type": "code",
   "execution_count": null,
   "id": "34d401b5-64b9-452b-838d-a82d1a554dae",
   "metadata": {},
   "outputs": [],
   "source": [
    "for image, _ in train_dataset.take(1):\n",
    "    plt.figure(figsize=(10,10))\n",
    "    first_image = image[0]\n",
    "    for i in range(9):\n",
    "        ax = plt.subplot(3,3,i+1)\n",
    "        augmented_image = data_augmentation(tf.expand_dims(first_image, 0))\n",
    "        plt.imshow(augmented_image[0] / 255)\n",
    "        plt.axis('off')"
   ]
  },
  {
   "cell_type": "markdown",
   "id": "7381e87d-70f3-4883-b3ab-bf5c2202999c",
   "metadata": {},
   "source": [
    "### Preprocess the Input For MobileNetV2"
   ]
  },
  {
   "cell_type": "code",
   "execution_count": null,
   "id": "1f0ac9ea-46f8-4e54-9479-0533636e5709",
   "metadata": {},
   "outputs": [],
   "source": [
    "preprocess_input = tf.keras.applications.mobilenet_v2.preprocess_input"
   ]
  },
  {
   "cell_type": "code",
   "execution_count": null,
   "id": "9202c276-3a6e-492f-a6f7-1b5e824f5429",
   "metadata": {},
   "outputs": [],
   "source": [
    "##Alternative preprocessing option is to use tf.keras.layers.Rescaling \n",
    "# rescale = tf.keras.layers.Rescaling(1./127.5, offset=-1)"
   ]
  },
  {
   "cell_type": "markdown",
   "id": "5b10a2b7-c826-454a-8ee1-7feaae9ba1ec",
   "metadata": {},
   "source": [
    "### Create Base Model (excluding the Top Layer)"
   ]
  },
  {
   "cell_type": "code",
   "execution_count": null,
   "id": "93d8ce86-7e3d-43fd-af4b-39f4777be062",
   "metadata": {},
   "outputs": [],
   "source": [
    "IMG_SHAPE = IMG_SIZE + (3,)\n",
    "base_model = tf.keras.applications.MobileNetV2(input_shape = IMG_SHAPE,\n",
    "                                               include_top=False,\n",
    "                                               weights='imagenet')"
   ]
  },
  {
   "cell_type": "code",
   "execution_count": null,
   "id": "922dbf88-0ab7-4cce-941f-68f119cddee8",
   "metadata": {},
   "outputs": [],
   "source": [
    "image_batch, label_batch = next(iter(train_dataset))\n",
    "feature_batch = base_model(image_batch)\n",
    "print(feature_batch.shape)"
   ]
  },
  {
   "cell_type": "markdown",
   "id": "78ce4233-362b-48ce-a6e6-c22e68866d34",
   "metadata": {},
   "source": [
    "### Freeze the Convolutional Base (prevents weights in base_model layers from being updated during training)"
   ]
  },
  {
   "cell_type": "code",
   "execution_count": null,
   "id": "d6d7f1cd-90d4-4d3e-bc28-001f7afdb816",
   "metadata": {},
   "outputs": [],
   "source": [
    "base_model.trainable = False"
   ]
  },
  {
   "cell_type": "code",
   "execution_count": null,
   "id": "3d50c0c8-7668-491f-8134-aec57752d7a8",
   "metadata": {},
   "outputs": [],
   "source": [
    "base_model.summary()"
   ]
  },
  {
   "cell_type": "markdown",
   "id": "a4deddaa-5ed0-4b9c-9f98-9bf9028a536c",
   "metadata": {},
   "source": [
    "### Add a Classification Head"
   ]
  },
  {
   "cell_type": "markdown",
   "id": "3dae1cea-6c92-4707-910c-bc97fcc5bee4",
   "metadata": {},
   "source": [
    "The global average layer will convert the features into a single vector per image"
   ]
  },
  {
   "cell_type": "code",
   "execution_count": null,
   "id": "807ce257-aea8-4e13-b9f8-5fca21760a94",
   "metadata": {},
   "outputs": [],
   "source": [
    "global_average_layer = tf.keras.layers.GlobalAveragePooling2D()\n",
    "feature_batch_average = global_average_layer(feature_batch)\n",
    "print(feature_batch_average.shape)"
   ]
  },
  {
   "cell_type": "markdown",
   "id": "1cf74112-d8d0-4e9d-90e0-d4d99ac4d506",
   "metadata": {},
   "source": [
    "A Dense layer will create a single prediction per image.\n",
    "(No activation function needed because the prediction will be treated as a logit \n",
    "where positive numbers are class 1 and negative numbers are class 0)"
   ]
  },
  {
   "cell_type": "code",
   "execution_count": null,
   "id": "5748c907-50b7-4673-9a97-9aeebc15582b",
   "metadata": {},
   "outputs": [],
   "source": [
    "prediction_layer = tf.keras.layers.Dense(1)\n",
    "prediction_batch = prediction_layer(feature_batch_average)\n",
    "print(prediction_batch.shape)"
   ]
  },
  {
   "cell_type": "markdown",
   "id": "2bbbdddd-c7af-4421-b73e-646881dbff7e",
   "metadata": {},
   "source": [
    "### Chain All of the Steps Above Together to Build the Model"
   ]
  },
  {
   "cell_type": "code",
   "execution_count": null,
   "id": "d1f2aa14-cf07-4b1f-93ec-82ac5cdd0210",
   "metadata": {},
   "outputs": [],
   "source": [
    "inputs = tf.keras.Input(shape=(160,160,3))\n",
    "x = data_augmentation(inputs)\n",
    "x = preprocess_input(x)\n",
    "\n",
    "#When you unfreeze a model that contains BatchNormalization layers in order to do \n",
    "# fine-tuning, you should keep the BatchNormalization layers in inference mode by \n",
    "# passing training = False when calling the base model. Otherwise, the updates \n",
    "# applied to the non-trainable weights will destroy what the model has learned.\n",
    "x = base_model(x, training=False)\n",
    "x = global_average_layer(x)\n",
    "x = tf.keras.layers.Dropout(0.2)(x)\n",
    "outputs = prediction_layer(x)\n",
    "model = tf.keras.Model(inputs, outputs)"
   ]
  },
  {
   "cell_type": "markdown",
   "id": "0b6a9cdd-4af8-41f3-931e-c6fed82e3124",
   "metadata": {},
   "source": [
    "### Compile the Model"
   ]
  },
  {
   "cell_type": "code",
   "execution_count": null,
   "id": "1e8fa66c-e514-4ccf-9ec2-4c9f10d18083",
   "metadata": {},
   "outputs": [],
   "source": [
    "base_learning_rate = 0.0001\n",
    "model.compile(optimizer=tf.keras.optimizers.Adam(learning_rate=base_learning_rate),\n",
    "                                                 loss = tf.keras.losses.BinaryCrossentropy(from_logits=True),\n",
    "                                                 metrics=[\"accuracy\"])"
   ]
  },
  {
   "cell_type": "code",
   "execution_count": null,
   "id": "f7a5f846-9b01-499d-92bb-fbddf88f30ff",
   "metadata": {},
   "outputs": [],
   "source": [
    "model.summary() # note the number of trainable vs non-trainable params"
   ]
  },
  {
   "cell_type": "code",
   "execution_count": null,
   "id": "877babf9-8338-447c-b3b0-3b309eb17e2e",
   "metadata": {},
   "outputs": [],
   "source": [
    "print(\"Trainable Variables:\", len(model.trainable_variables))\n",
    "model.trainable_variables"
   ]
  },
  {
   "cell_type": "markdown",
   "id": "b6fff6ea-5b92-4822-80ef-5847887bef9a",
   "metadata": {},
   "source": [
    "### Train the Model"
   ]
  },
  {
   "cell_type": "code",
   "execution_count": null,
   "id": "a00ddc55-0b8c-4a69-a868-d89447baf9d4",
   "metadata": {},
   "outputs": [],
   "source": [
    "initial_epochs = 10\n",
    "\n",
    "loss0, accuracy0 = model.evaluate(validation_dataset)"
   ]
  },
  {
   "cell_type": "code",
   "execution_count": null,
   "id": "86e3034e-0d9f-49a5-8d2b-1eeca333724f",
   "metadata": {},
   "outputs": [],
   "source": [
    "print(f\"Initial Loss: {loss0}\")\n",
    "print(f\"Initial Accuracy: {accuracy0}\")"
   ]
  },
  {
   "cell_type": "code",
   "execution_count": null,
   "id": "53e1d4e9-65ee-4392-b3fc-fe523a2e8b47",
   "metadata": {},
   "outputs": [],
   "source": [
    "history = model.fit(train_dataset,\n",
    "                    epochs = initial_epochs,\n",
    "                    validation_data=validation_dataset)"
   ]
  },
  {
   "cell_type": "markdown",
   "id": "fce9f221-3212-4e20-a21a-39f5de06b4ad",
   "metadata": {},
   "source": [
    "### Plot the Learning Curves"
   ]
  },
  {
   "cell_type": "code",
   "execution_count": null,
   "id": "1e3137bd-5339-4293-b006-4d308e6f9773",
   "metadata": {},
   "outputs": [],
   "source": [
    "acc = history.history['accuracy']\n",
    "val_acc = history.history['val_accuracy']\n",
    "\n",
    "loss = history.history['loss']\n",
    "val_loss = history.history['val_loss']\n",
    "\n",
    "plt.figure(figsize=(8, 8))\n",
    "plt.subplot(2, 1, 1)\n",
    "plt.plot(acc, label='Training Accuracy')\n",
    "plt.plot(val_acc, label='Validation Accuracy')\n",
    "plt.legend(loc='lower right')\n",
    "plt.ylabel('Accuracy')\n",
    "plt.ylim([min(plt.ylim()),1])\n",
    "plt.title('Training and Validation Accuracy')\n",
    "\n",
    "plt.subplot(2, 1, 2)\n",
    "plt.plot(loss, label='Training Loss')\n",
    "plt.plot(val_loss, label='Validation Loss')\n",
    "plt.legend(loc='upper right')\n",
    "plt.ylabel('Cross Entropy')\n",
    "plt.ylim([0,1.0])\n",
    "plt.title('Training and Validation Loss')\n",
    "plt.xlabel('epoch')\n",
    "plt.show()"
   ]
  },
  {
   "cell_type": "markdown",
   "id": "c987272d-7fe7-49ad-8e24-0fb05176d0e1",
   "metadata": {},
   "source": [
    "### Fine Tune the Model by Unfreezing Just the Top Layers of the Base Model"
   ]
  },
  {
   "cell_type": "code",
   "execution_count": null,
   "id": "7be54d3c-ad75-4eb1-bccf-5634f2bec72e",
   "metadata": {},
   "outputs": [],
   "source": [
    "base_model.trainable = True"
   ]
  },
  {
   "cell_type": "code",
   "execution_count": null,
   "id": "ec03bd84-ad21-437b-9d9d-91e413a182b8",
   "metadata": {},
   "outputs": [],
   "source": [
    "print(f\"Number of layers in base model: {len(base_model.layers)}\")"
   ]
  },
  {
   "cell_type": "code",
   "execution_count": null,
   "id": "ef4e3267-bd84-4bed-8571-105fdad3ea29",
   "metadata": {},
   "outputs": [],
   "source": [
    "fine_tune_at = 100\n",
    "\n",
    "#Freeze all layers before the fine_tune_at layer\n",
    "for layer in base_model.layers[0:fine_tune_at]:\n",
    "    layer.trainable = False"
   ]
  },
  {
   "cell_type": "markdown",
   "id": "88e9f7ae-96be-457f-bab2-3d1589dec05f",
   "metadata": {},
   "source": [
    "### Recompile The Model\n",
    "Use a lower learning rate since the model being trained is much larger and could overfit quickly"
   ]
  },
  {
   "cell_type": "code",
   "execution_count": null,
   "id": "209cdb98-72a9-488c-900f-79a729a00744",
   "metadata": {},
   "outputs": [],
   "source": [
    "model.compile(loss = tf.keras.losses.BinaryCrossentropy(from_logits=True),\n",
    "              optimizer = tf.keras.optimizers.RMSprop(learning_rate=base_learning_rate/10),\n",
    "              metrics = [\"accuracy\"])"
   ]
  },
  {
   "cell_type": "code",
   "execution_count": null,
   "id": "21b9a58b-c41a-4ff4-b0db-db305a70b57b",
   "metadata": {},
   "outputs": [],
   "source": [
    "model.summary() # note the number of trainable params now"
   ]
  },
  {
   "cell_type": "code",
   "execution_count": null,
   "id": "12854551-c1bd-4055-8656-611a416d24c6",
   "metadata": {},
   "outputs": [],
   "source": [
    "len(model.trainable_variables)"
   ]
  },
  {
   "cell_type": "markdown",
   "id": "8a63c939-d296-4000-b6ed-cab7fcb18516",
   "metadata": {},
   "source": [
    "### Continue Training the Model"
   ]
  },
  {
   "cell_type": "code",
   "execution_count": null,
   "id": "bb57369f-ceb3-4614-8f7a-0383a0161c76",
   "metadata": {},
   "outputs": [],
   "source": [
    "fine_tune_epochs = 10\n",
    "total_epochs = initial_epochs + fine_tune_epochs\n",
    "\n",
    "history_fine = model.fit(train_dataset,\n",
    "                         epochs = total_epochs,\n",
    "                         initial_epoch=history.epoch[-1],\n",
    "                         validation_data=validation_dataset)"
   ]
  },
  {
   "cell_type": "markdown",
   "id": "a527fe52-bfba-413f-bc5f-2dff6b54bd88",
   "metadata": {},
   "source": [
    "### Plot the New Learning Curves"
   ]
  },
  {
   "cell_type": "code",
   "execution_count": null,
   "id": "f81286ef-d705-4ec4-a2a6-e97e9990e80d",
   "metadata": {},
   "outputs": [],
   "source": [
    "acc += history_fine.history['accuracy']\n",
    "val_acc += history_fine.history['val_accuracy']\n",
    "\n",
    "loss += history_fine.history['loss']\n",
    "val_loss += history_fine.history['val_loss']"
   ]
  },
  {
   "cell_type": "code",
   "execution_count": null,
   "id": "7f28bf2d-8dbd-40c2-bbc3-e04af886227d",
   "metadata": {},
   "outputs": [],
   "source": [
    "plt.figure(figsize=(8, 8))\n",
    "plt.subplot(2, 1, 1)\n",
    "plt.plot(acc, label='Training Accuracy')\n",
    "plt.plot(val_acc, label='Validation Accuracy')\n",
    "plt.ylim([0.8, 1])\n",
    "plt.plot([initial_epochs-1,initial_epochs-1],\n",
    "          plt.ylim(), label='Start Fine Tuning')\n",
    "plt.legend(loc='lower right')\n",
    "plt.title('Training and Validation Accuracy')\n",
    "\n",
    "plt.subplot(2, 1, 2)\n",
    "plt.plot(loss, label='Training Loss')\n",
    "plt.plot(val_loss, label='Validation Loss')\n",
    "plt.ylim([0, 1.0])\n",
    "plt.plot([initial_epochs-1,initial_epochs-1],\n",
    "         plt.ylim(), label='Start Fine Tuning')\n",
    "plt.legend(loc='upper right')\n",
    "plt.title('Training and Validation Loss')\n",
    "plt.xlabel('epoch')\n",
    "plt.show()"
   ]
  },
  {
   "cell_type": "markdown",
   "id": "f4e96176-15b5-475b-b3f7-fa941000ef18",
   "metadata": {},
   "source": [
    "### Make Predictions on the Test Set"
   ]
  },
  {
   "cell_type": "code",
   "execution_count": null,
   "id": "673514bf-1d37-4410-ae8c-6047a2e8ac91",
   "metadata": {},
   "outputs": [],
   "source": [
    "loss, accuracy = model.evaluate(test_dataset)"
   ]
  },
  {
   "cell_type": "code",
   "execution_count": null,
   "id": "73a5f37d-30cf-49ae-8952-5c3e24fecaa5",
   "metadata": {},
   "outputs": [],
   "source": [
    "print(loss, accuracy)"
   ]
  },
  {
   "cell_type": "code",
   "execution_count": null,
   "id": "734a8d7e-dc8f-44d5-8def-b0e6645cff05",
   "metadata": {},
   "outputs": [],
   "source": [
    "# Retrieve images from test set\n",
    "image_batch, label_batch = test_dataset.as_numpy_iterator().next()\n",
    "predictions = model.predict_on_batch(image_batch).flatten()\n",
    "\n",
    "# Apply Sigmoid since model returns logits\n",
    "predictions = tf.nn.sigmoid(predictions)\n",
    "predictions = tf.where(predictions < 0.5, 0, 1)\n",
    "print(f\"Predictions:\\n {predictions.numpy()}\")\n",
    "print(f\"Labels:\\n {label_batch}\")\n",
    "\n",
    "plt.figure(figsize=(10,10))\n",
    "for i in range(9):\n",
    "    ax = plt.subplot(3,3,i+1)\n",
    "    plt.imshow(image_batch[i].astype(\"uint8\"))\n",
    "    plt.title(class_names[predictions[i]])\n",
    "    plt.axis(\"off\")"
   ]
  },
  {
   "cell_type": "markdown",
   "id": "8e368f84-aa2d-465f-b926-03f148efbc4d",
   "metadata": {},
   "source": [
    "### Next\n",
    "See https://www.tensorflow.org/guide/keras/transfer_learning for more info on transfer learning"
   ]
  },
  {
   "cell_type": "code",
   "execution_count": null,
   "id": "fd2e3cac-2812-4852-9361-17cafe4ffcef",
   "metadata": {},
   "outputs": [],
   "source": []
  }
 ],
 "metadata": {
  "kernelspec": {
   "display_name": "Python 3 (ipykernel)",
   "language": "python",
   "name": "python3"
  },
  "language_info": {
   "codemirror_mode": {
    "name": "ipython",
    "version": 3
   },
   "file_extension": ".py",
   "mimetype": "text/x-python",
   "name": "python",
   "nbconvert_exporter": "python",
   "pygments_lexer": "ipython3",
   "version": "3.10.4"
  }
 },
 "nbformat": 4,
 "nbformat_minor": 5
}
